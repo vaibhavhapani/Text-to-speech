{
 "cells": [
  {
   "cell_type": "code",
   "execution_count": 1,
   "id": "5700cddc",
   "metadata": {},
   "outputs": [
    {
     "data": {
      "text/plain": [
       "0"
      ]
     },
     "execution_count": 1,
     "metadata": {},
     "output_type": "execute_result"
    }
   ],
   "source": [
    "# Import the Gtts module for text  \n",
    "# to speech conversion \n",
    "from gtts import gTTS \n",
    "  \n",
    "# import Os module to start the audio file\n",
    "import os \n",
    "\n",
    "fh = open(\"test.txt\", \"r\")\n",
    "myText = fh.read().replace(\"\\n\", \" \")\n",
    "\n",
    "# Language we want to use \n",
    "language = 'en'\n",
    "\n",
    "output = gTTS(text=myText, lang=language, slow=False)\n",
    "\n",
    "output.save(\"output.mp3\")\n",
    "fh.close()\n",
    "\n",
    "# Play the converted file \n",
    "os.system(\"start output.mp3\")"
   ]
  },
  {
   "cell_type": "code",
   "execution_count": 1,
   "id": "0ba9a02e",
   "metadata": {},
   "outputs": [],
   "source": [
    "# Import necessary libraries:\n",
    "import pyttsx3\n",
    "import PyPDF2\n",
    "\n",
    "\n",
    "# Read the file in binary mode:\n",
    "book = open('test-tts.pdf', 'rb')\n",
    "\n",
    "# Create a PdfFileReader object:\n",
    "pdfReader = PyPDF2.PdfFileReader(book)\n",
    "\n",
    "# To determine total number of pages in the PDF file:\n",
    "pages = pdfReader.numPages\n",
    "\n",
    "# Initialize the speaker:\n",
    "# Here, init() function is used to get a reference to a pyttsx3.Engine instance\n",
    "speaker = pyttsx3.init()\n",
    "\n",
    "# To access voice property of the speaker:\n",
    "voices = speaker.getProperty('voices')\n",
    "\n",
    "# Set the speaker's gender: 0-> Male (default), 1-> Female\n",
    "speaker.setProperty('voice', voices[1].id)\n",
    "\n",
    "# Iterate through the pages you want to access\n",
    "# For accessing specific pages: Iterate through the corresponding pageindices\n",
    "# Note: Index of first page-> 0\n",
    "# Here, entire PDF is accessed:\n",
    "for num in range(pages):\n",
    "    # To read current page index:\n",
    "    page = pdfReader.getPage(num)\n",
    "    # To extract the text present in current page:\n",
    "    text = page.extractText()\n",
    "    # say() function takes a string as the parameter and then queues the same \n",
    "    #to be converted from text-to-speech\n",
    "    speaker.say(text)\n",
    "    # runAndWait() function blocks the engine instance until all the currently\n",
    "    #queued commands are processed\n",
    "    speaker.runAndWait()\n",
    "\n",
    "# To save the audio output as a MP3 file, within this project:\n",
    "# Make use of any MP3 player to access this recording whenever required\n",
    "speaker.save_to_file(text, 'audio.mp3')\n",
    "speaker.runAndWait()"
   ]
  },
  {
   "cell_type": "code",
   "execution_count": null,
   "id": "67af7ed4",
   "metadata": {},
   "outputs": [],
   "source": []
  }
 ],
 "metadata": {
  "kernelspec": {
   "display_name": "Python 3",
   "language": "python",
   "name": "python3"
  },
  "language_info": {
   "codemirror_mode": {
    "name": "ipython",
    "version": 3
   },
   "file_extension": ".py",
   "mimetype": "text/x-python",
   "name": "python",
   "nbconvert_exporter": "python",
   "pygments_lexer": "ipython3",
   "version": "3.8.8"
  }
 },
 "nbformat": 4,
 "nbformat_minor": 5
}
